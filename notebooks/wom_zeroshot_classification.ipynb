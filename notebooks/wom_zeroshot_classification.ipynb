{
 "cells": [
  {
   "cell_type": "code",
   "execution_count": null,
   "id": "f213aa93",
   "metadata": {},
   "outputs": [],
   "source": [
    "\n",
    "# Load your full data \n",
    "#df = ...\n",
    "\n",
    "# Extract year-month (e.g., 2020-04) for grouping\n",
    "df[\"year_month\"] = df[\"date\"].dt.to_period(\"M\")\n",
    "\n",
    "# Randomly select 4 paragraphs per month\n",
    "df_sampled = (\n",
    "    df.groupby(\"year_month\", group_keys=False)\n",
    "      .apply(lambda x: x.sample(n=4, random_state=42) if len(x) >= 2 else x)\n",
    "      .reset_index(drop=True)\n",
    ")\n",
    "\n",
    "# Add an empty label column for manual annotation\n",
    "df_sampled[\"label\"] = \"\"\n",
    "df_sampled.to_csv(\"../data/processed/tr_speech_sample.csv\", index=False, encoding=\"utf-8-sig\")\n",
    "df_sampled"
   ]
  },
  {
   "cell_type": "code",
   "execution_count": null,
   "id": "126db376",
   "metadata": {},
   "outputs": [],
   "source": [
    "# Function: Zero-shot Classification for migration threat  \n",
    "\n",
    "import pandas as pd\n",
    "from transformers import pipeline\n",
    "from tqdm import tqdm\n",
    "\n",
    "def f_zeroshot_threat_tr(df, text_col, model_name, labels, batch_size):\n",
    "    classifier = pipeline('zero-shot-classification', model=model_name)\n",
    "    texts = df[text_col].tolist()\n",
    "\n",
    "    all_scores = []\n",
    "\n",
    "    for i in tqdm(range(0, len(texts), batch_size), desc=\"Classifying texts in batches\"):\n",
    "        batch = texts[i:i + batch_size]\n",
    "        results = classifier(batch, labels)\n",
    "        for result in results:\n",
    "            all_scores.append(dict(zip(result['labels'], result['scores'])))\n",
    "\n",
    "    # Add label scores column\n",
    "    model_suffix = model_name.split('/')[-1].replace('-', '_')\n",
    "    model_scores_col = f\"label_scores_{model_suffix}\"\n",
    "    df[model_scores_col] = all_scores\n",
    "\n",
    "    return df"
   ]
  },
  {
   "cell_type": "code",
   "execution_count": null,
   "id": "0f0a44e4",
   "metadata": {},
   "outputs": [],
   "source": [
    "# Apply function: of zero-shot classification for migration threats\n",
    "\n",
    "model_names = ['facebook/bart-large-mnli']\n",
    "labels = [\n",
    "    \"explicitely threatening to send migrants\",\n",
    "    \"implicitly threatening to send migrants\",\n",
    "    \"criticizing based on migration policy\",\n",
    "    \"criticizing based on migration\",\n",
    "    \"cooperative migration discourse\",\n",
    "    \"neutral or irrelevant\",\n",
    "]\n",
    "batch_size = 32\n",
    "\n",
    "for model in model_names:\n",
    "    df_results = f_zeroshot_threat_tr(df_sampled, \"text\", model, labels, batch_size=batch_size)"
   ]
  },
  {
   "cell_type": "code",
   "execution_count": null,
   "id": "5e19e1c9",
   "metadata": {},
   "outputs": [],
   "source": [
    "# Spread the label scores into separate columns\n",
    "scores_df = df_sampled[\"label_scores_bart_large_mnli\"].apply(pd.Series)\n",
    "df_sampled = pd.concat([df_sampled, scores_df], axis=1)\n",
    "df_sampled.to_csv(\"../data/processed/tr_speech_sample_label2.csv\", index=False, encoding=\"utf-8-sig\")"
   ]
  }
 ],
 "metadata": {
  "language_info": {
   "name": "python"
  }
 },
 "nbformat": 4,
 "nbformat_minor": 5
}
